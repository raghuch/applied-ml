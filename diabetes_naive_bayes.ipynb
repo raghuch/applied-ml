{
  "nbformat": 4,
  "nbformat_minor": 0,
  "metadata": {
    "colab": {
      "name": "diabetes_naive_bayes.ipynb",
      "version": "0.3.2",
      "provenance": [],
      "collapsed_sections": []
    },
    "kernelspec": {
      "name": "python3",
      "display_name": "Python 3"
    }
  },
  "cells": [
    {
      "metadata": {
        "id": "ai2833Z5lfVq",
        "colab_type": "text"
      },
      "cell_type": "markdown",
      "source": [
        "## Naive Bayes\n",
        "\n",
        "We'll be using a hand-coded implementation of Naive Bayes Classifier, using the Pima Indians diabetes dataset (https://www.kaggle.com/uciml/pima-indians-diabetes-database), and compare our performance* with sklearn's Naive Bayes classifier.\n",
        "\n",
        "Please let me know if I got any of the logic/mathematical parts wrong.\n",
        "\n",
        "\n",
        "---\n",
        "\n",
        "*  *by performance, we measure only the accuracy of predictions, not optimizing for memory or time"
      ]
    },
    {
      "metadata": {
        "id": "aWe-PBrWk_Lw",
        "colab_type": "text"
      },
      "cell_type": "markdown",
      "source": [
        "These 2 lines of code are for enabling Google colab to connect with Google Drive; they won't be necessary if you are doing this locally/cloud provider like GCP/AWS/paperspace etc."
      ]
    },
    {
      "metadata": {
        "id": "2o7L0Jm77rm5",
        "colab_type": "code",
        "colab": {
          "base_uri": "https://localhost:8080/",
          "height": 34
        },
        "outputId": "2de38320-c674-4ae0-b1f9-db7f00b9ae45"
      },
      "cell_type": "code",
      "source": [
        "from google.colab import files, drive\n",
        "drive.mount('/content/gdrive')"
      ],
      "execution_count": 2,
      "outputs": [
        {
          "output_type": "stream",
          "text": [
            "Drive already mounted at /content/gdrive; to attempt to forcibly remount, call drive.mount(\"/content/gdrive\", force_remount=True).\n"
          ],
          "name": "stdout"
        }
      ]
    },
    {
      "metadata": {
        "id": "63gnVKDalUdy",
        "colab_type": "text"
      },
      "cell_type": "markdown",
      "source": [
        "The datapath for the PIMA Indians diabetes dataset, downloaded from:\n",
        "https://www.kaggle.com/uciml/pima-indians-diabetes-database"
      ]
    },
    {
      "metadata": {
        "id": "dc8gIhDU78L8",
        "colab_type": "code",
        "colab": {}
      },
      "cell_type": "code",
      "source": [
        "diabetes_datapath = \"/content/gdrive/My Drive/ml_data/diabetes.csv\""
      ],
      "execution_count": 0,
      "outputs": []
    },
    {
      "metadata": {
        "id": "Kr2S9PkfBOVu",
        "colab_type": "code",
        "colab": {}
      },
      "cell_type": "code",
      "source": [
        "import os\n",
        "import numpy as np\n",
        "import matplotlib.pyplot as plt\n",
        "import pandas as pd\n",
        "import scipy.stats"
      ],
      "execution_count": 0,
      "outputs": []
    },
    {
      "metadata": {
        "id": "xH9B2yeHBVP8",
        "colab_type": "code",
        "colab": {}
      },
      "cell_type": "code",
      "source": [
        "diabetes_df = pd.read_csv(diabetes_datapath)"
      ],
      "execution_count": 0,
      "outputs": []
    },
    {
      "metadata": {
        "id": "kWFFQj46BupU",
        "colab_type": "code",
        "colab": {
          "base_uri": "https://localhost:8080/",
          "height": 68
        },
        "outputId": "026139af-80d8-4355-f4ba-c59286292c49"
      },
      "cell_type": "code",
      "source": [
        "diabetes_df.columns"
      ],
      "execution_count": 6,
      "outputs": [
        {
          "output_type": "execute_result",
          "data": {
            "text/plain": [
              "Index(['Pregnancies', 'Glucose', 'BloodPressure', 'SkinThickness', 'Insulin',\n",
              "       'BMI', 'DiabetesPedigreeFunction', 'Age', 'Outcome'],\n",
              "      dtype='object')"
            ]
          },
          "metadata": {
            "tags": []
          },
          "execution_count": 6
        }
      ]
    },
    {
      "metadata": {
        "id": "YGua3V5tSQvp",
        "colab_type": "code",
        "colab": {
          "base_uri": "https://localhost:8080/",
          "height": 204
        },
        "outputId": "30a448e0-f4dc-47bb-a759-702cd2f7061f"
      },
      "cell_type": "code",
      "source": [
        "diabetes_df.head()"
      ],
      "execution_count": 7,
      "outputs": [
        {
          "output_type": "execute_result",
          "data": {
            "text/html": [
              "<div>\n",
              "<style scoped>\n",
              "    .dataframe tbody tr th:only-of-type {\n",
              "        vertical-align: middle;\n",
              "    }\n",
              "\n",
              "    .dataframe tbody tr th {\n",
              "        vertical-align: top;\n",
              "    }\n",
              "\n",
              "    .dataframe thead th {\n",
              "        text-align: right;\n",
              "    }\n",
              "</style>\n",
              "<table border=\"1\" class=\"dataframe\">\n",
              "  <thead>\n",
              "    <tr style=\"text-align: right;\">\n",
              "      <th></th>\n",
              "      <th>Pregnancies</th>\n",
              "      <th>Glucose</th>\n",
              "      <th>BloodPressure</th>\n",
              "      <th>SkinThickness</th>\n",
              "      <th>Insulin</th>\n",
              "      <th>BMI</th>\n",
              "      <th>DiabetesPedigreeFunction</th>\n",
              "      <th>Age</th>\n",
              "      <th>Outcome</th>\n",
              "    </tr>\n",
              "  </thead>\n",
              "  <tbody>\n",
              "    <tr>\n",
              "      <th>0</th>\n",
              "      <td>6</td>\n",
              "      <td>148</td>\n",
              "      <td>72</td>\n",
              "      <td>35</td>\n",
              "      <td>0</td>\n",
              "      <td>33.6</td>\n",
              "      <td>0.627</td>\n",
              "      <td>50</td>\n",
              "      <td>1</td>\n",
              "    </tr>\n",
              "    <tr>\n",
              "      <th>1</th>\n",
              "      <td>1</td>\n",
              "      <td>85</td>\n",
              "      <td>66</td>\n",
              "      <td>29</td>\n",
              "      <td>0</td>\n",
              "      <td>26.6</td>\n",
              "      <td>0.351</td>\n",
              "      <td>31</td>\n",
              "      <td>0</td>\n",
              "    </tr>\n",
              "    <tr>\n",
              "      <th>2</th>\n",
              "      <td>8</td>\n",
              "      <td>183</td>\n",
              "      <td>64</td>\n",
              "      <td>0</td>\n",
              "      <td>0</td>\n",
              "      <td>23.3</td>\n",
              "      <td>0.672</td>\n",
              "      <td>32</td>\n",
              "      <td>1</td>\n",
              "    </tr>\n",
              "    <tr>\n",
              "      <th>3</th>\n",
              "      <td>1</td>\n",
              "      <td>89</td>\n",
              "      <td>66</td>\n",
              "      <td>23</td>\n",
              "      <td>94</td>\n",
              "      <td>28.1</td>\n",
              "      <td>0.167</td>\n",
              "      <td>21</td>\n",
              "      <td>0</td>\n",
              "    </tr>\n",
              "    <tr>\n",
              "      <th>4</th>\n",
              "      <td>0</td>\n",
              "      <td>137</td>\n",
              "      <td>40</td>\n",
              "      <td>35</td>\n",
              "      <td>168</td>\n",
              "      <td>43.1</td>\n",
              "      <td>2.288</td>\n",
              "      <td>33</td>\n",
              "      <td>1</td>\n",
              "    </tr>\n",
              "  </tbody>\n",
              "</table>\n",
              "</div>"
            ],
            "text/plain": [
              "   Pregnancies  Glucose  BloodPressure  SkinThickness  Insulin   BMI  \\\n",
              "0            6      148             72             35        0  33.6   \n",
              "1            1       85             66             29        0  26.6   \n",
              "2            8      183             64              0        0  23.3   \n",
              "3            1       89             66             23       94  28.1   \n",
              "4            0      137             40             35      168  43.1   \n",
              "\n",
              "   DiabetesPedigreeFunction  Age  Outcome  \n",
              "0                     0.627   50        1  \n",
              "1                     0.351   31        0  \n",
              "2                     0.672   32        1  \n",
              "3                     0.167   21        0  \n",
              "4                     2.288   33        1  "
            ]
          },
          "metadata": {
            "tags": []
          },
          "execution_count": 7
        }
      ]
    },
    {
      "metadata": {
        "id": "gjOzikDRSQs3",
        "colab_type": "code",
        "colab": {
          "base_uri": "https://localhost:8080/",
          "height": 187
        },
        "outputId": "db668dad-e7cc-4ea7-c8d5-e991ad030b38"
      },
      "cell_type": "code",
      "source": [
        "diabetes_df.dtypes"
      ],
      "execution_count": 8,
      "outputs": [
        {
          "output_type": "execute_result",
          "data": {
            "text/plain": [
              "Pregnancies                   int64\n",
              "Glucose                       int64\n",
              "BloodPressure                 int64\n",
              "SkinThickness                 int64\n",
              "Insulin                       int64\n",
              "BMI                         float64\n",
              "DiabetesPedigreeFunction    float64\n",
              "Age                           int64\n",
              "Outcome                       int64\n",
              "dtype: object"
            ]
          },
          "metadata": {
            "tags": []
          },
          "execution_count": 8
        }
      ]
    },
    {
      "metadata": {
        "id": "sIK3qIiuga6E",
        "colab_type": "text"
      },
      "cell_type": "markdown",
      "source": [
        "Since the data types of call columns are numerical, we will be using Gaussian Naive Bayes *i.e.* we assume each feature comes from a Gaussian/normal distribution.\n",
        "\n",
        "(Strictly, the target value 'Outcome' should be categorical (yes/no or 1/0), but we relegate that to the output *\"y\"* variable.)"
      ]
    },
    {
      "metadata": {
        "id": "ogD4PR8OfhMS",
        "colab_type": "code",
        "colab": {}
      },
      "cell_type": "code",
      "source": [
        "num_samples, num_features = diabetes_df.shape"
      ],
      "execution_count": 0,
      "outputs": []
    },
    {
      "metadata": {
        "id": "G1t_c8BtaVKL",
        "colab_type": "code",
        "colab": {}
      },
      "cell_type": "code",
      "source": [
        "permuted_idxs = np.random.permutation(num_samples)\n",
        "diabetes_df_new = diabetes_df.loc[permuted_idxs]"
      ],
      "execution_count": 0,
      "outputs": []
    },
    {
      "metadata": {
        "id": "5st9NrMlk1bm",
        "colab_type": "text"
      },
      "cell_type": "markdown",
      "source": [
        "Choosing a 75:25 train and test split"
      ]
    },
    {
      "metadata": {
        "id": "pYc31BGcaWbc",
        "colab_type": "code",
        "colab": {}
      },
      "cell_type": "code",
      "source": [
        "train_set_sz = int(num_samples * 0.75)\n",
        "train_df = diabetes_df_new[0:train_set_sz]\n",
        "test_df = diabetes_df_new[train_set_sz+1 :]"
      ],
      "execution_count": 0,
      "outputs": []
    },
    {
      "metadata": {
        "id": "VjMJNQEmafop",
        "colab_type": "code",
        "colab": {}
      },
      "cell_type": "code",
      "source": [
        "test_df_preds = test_df['Outcome']\n",
        "test_df = test_df.drop(columns='Outcome')\n",
        "\n",
        "train_df = train_df.reset_index()\n",
        "#reset_index adds a new \"index\" column, so we should drop that extra column\n",
        "train_df = train_df.drop(columns='index')"
      ],
      "execution_count": 0,
      "outputs": []
    },
    {
      "metadata": {
        "id": "eBS0K1YbSQqc",
        "colab_type": "code",
        "colab": {}
      },
      "cell_type": "code",
      "source": [
        "#TODO: replace .loc[i] with df.iterrows() so no need to reset_index later\n",
        "\n",
        "def separate_by_class(df, colname):\n",
        "    \"\"\"separate the dataframe by predictions\n",
        "    Returns a dict whose keys are possible predictions, \n",
        "    and values are data vectors which have the key as the class of prediction\n",
        "    'colname' is the column which has the predictions\"\"\"\n",
        "    \n",
        "    separated = {}\n",
        "    for i in range(df.shape[0]):\n",
        "        vec = df.loc[i]\n",
        "        if vec[colname] not in separated:\n",
        "            separated[vec[colname]] = []\n",
        "        separated[vec[colname]].append(vec)\n",
        "        \n",
        "    return separated\n",
        "    "
      ],
      "execution_count": 0,
      "outputs": []
    },
    {
      "metadata": {
        "id": "jFRa2DcrbNz9",
        "colab_type": "code",
        "colab": {}
      },
      "cell_type": "code",
      "source": [
        "#separated_data = separate_by_class(diabetes_df, 'Outcome')\n",
        "#separated_data"
      ],
      "execution_count": 0,
      "outputs": []
    },
    {
      "metadata": {
        "id": "UeM9aeeLbUw0",
        "colab_type": "code",
        "colab": {}
      },
      "cell_type": "code",
      "source": [
        "#outcome_freq = dict()\n",
        "#outcome_prob = dict()\n",
        "def calc_pred_prob(df, colname):\n",
        "    \"\"\"Calculates the count/frequency of each class of precitions\n",
        "    and also the probability of each class of predictions\n",
        "    returns count and probability both as dicts,\n",
        "    indexed by the class of prediction\"\"\"\n",
        "    \n",
        "    n_samples = df.shape[0]\n",
        "    separated_data = separate_by_class(df, colname)\n",
        "    outcome_freq = dict()\n",
        "    outcome_prob = dict()\n",
        "    for pred in separated_data.keys():\n",
        "        outcome_freq[pred] = len(separated_data[pred])\n",
        "        outcome_prob[pred] = outcome_freq[pred]/n_samples\n",
        "        \n",
        "    return outcome_freq, outcome_prob"
      ],
      "execution_count": 0,
      "outputs": []
    },
    {
      "metadata": {
        "id": "1WtJ2Sw4eoWy",
        "colab_type": "code",
        "colab": {}
      },
      "cell_type": "code",
      "source": [
        "outcome_freq, outcome_prob = calc_pred_prob(train_df, 'Outcome')"
      ],
      "execution_count": 0,
      "outputs": []
    },
    {
      "metadata": {
        "id": "yL8TLfX0ftI6",
        "colab_type": "code",
        "colab": {
          "base_uri": "https://localhost:8080/",
          "height": 51
        },
        "outputId": "448acb22-5193-43e4-a42d-e05209729f5a"
      },
      "cell_type": "code",
      "source": [
        "print(outcome_freq)\n",
        "print(outcome_prob)"
      ],
      "execution_count": 46,
      "outputs": [
        {
          "output_type": "stream",
          "text": [
            "{1.0: 204, 0.0: 372}\n",
            "{1.0: 0.3541666666666667, 0.0: 0.6458333333333334}\n"
          ],
          "name": "stdout"
        }
      ]
    },
    {
      "metadata": {
        "id": "7JTy7cJdK3af",
        "colab_type": "code",
        "colab": {}
      },
      "cell_type": "code",
      "source": [
        "def calculate_freq_table(df, target_colname):\n",
        "    \"\"\"Takes the dataframe and calculates freqs and probs of each column\"\"\"\n",
        "    \n",
        "    num_samples = df.shape[0]\n",
        "    cols = df.columns\n",
        "    data_by_class = separate_by_class(df, target_colname)\n",
        "    pred_classes = data_by_class.keys()\n",
        "\n",
        "    data_dict = dict()\n",
        "    for pred in pred_classes:\n",
        "        class_df = pd.DataFrame(columns=cols)\n",
        "        col_dict = dict()\n",
        "        for col in cols:\n",
        "            mean = df[df[target_colname]==pred][col].mean()\n",
        "            std_dev = df[df[target_colname]==pred][col].std()\n",
        "            col_dict[col] = tuple((mean, std_dev))\n",
        "            #scipy.stats.norm(loc=mean,scale=std_dev).pdf()\n",
        "            \n",
        "        data_dict[pred] = col_dict\n",
        "        \n",
        "    return data_dict"
      ],
      "execution_count": 0,
      "outputs": []
    },
    {
      "metadata": {
        "id": "ffqmYlVZDp-Y",
        "colab_type": "code",
        "colab": {}
      },
      "cell_type": "code",
      "source": [
        "def make_pred(data_row, train_stats):\n",
        "    data_cols = data_row.columns\n",
        "    pred_by_class = dict()\n",
        "    log_prob = dict()\n",
        "    max_logprob = 0.0\n",
        "    out_class = -1\n",
        "    \n",
        "    #for col in data_cols:\n",
        "    for (out_class, stats) in train_stats.items():\n",
        "        prob = dict()\n",
        "        for col in data_cols:\n",
        "            #prob[col] = \n",
        "            #scipy.stats.norm(*train_stats[out_class][col]).pdf(data_row[col])\n",
        "            prob[col] = scipy.stats.norm(*stats[col]).pdf(data_row[col])\n",
        "            \n",
        "        pred_by_class[out_class] = prob\n",
        "        log_prob[out_class] = 0.0\n",
        "        for val in prob.values():\n",
        "            log_prob[out_class] += np.log(val)\n",
        "    \n",
        "    #To get the key with max value, use the first answer to this question:\n",
        "    #https://stackoverflow.com/questions/268272/getting-key-with-maximum-value-in-dictionary\n",
        "    out_class = max(log_prob.keys(), key=(lambda k: log_prob[k]))\n",
        "    max_logprob = log_prob[out_class]\n",
        "    \n",
        "    return out_class, np.exp(max_logprob)"
      ],
      "execution_count": 0,
      "outputs": []
    },
    {
      "metadata": {
        "id": "0YnVRA0IEIOx",
        "colab_type": "code",
        "colab": {}
      },
      "cell_type": "code",
      "source": [
        "def get_accuracy(test_df, test_df_preds, train_stats):\n",
        "    val_set_sz = test_df.shape[0]\n",
        "    correct_preds = 0\n",
        "    for idx in test_df.index:\n",
        "        pred, pred_prob = make_pred(test_df.loc[[idx]], train_stats)\n",
        "        if pred == test_df_preds.loc[[idx]].get_values():\n",
        "            correct_preds += 1\n",
        "    \n",
        "    return (correct_preds * 100)/val_set_sz"
      ],
      "execution_count": 0,
      "outputs": []
    },
    {
      "metadata": {
        "id": "ORx9-5aZhcZ4",
        "colab_type": "code",
        "colab": {}
      },
      "cell_type": "code",
      "source": [
        "#Calculate the mean and std deviations of data vectors, which are separated by\n",
        "#output classes, *i.e.* for each output class (1 or 0), we calculate mean and \n",
        "#std deviation for each feature\n",
        "\n",
        "train_stats = calculate_freq_table(train_df, 'Outcome')"
      ],
      "execution_count": 0,
      "outputs": []
    },
    {
      "metadata": {
        "id": "ZBOwQ300hcWx",
        "colab_type": "code",
        "colab": {
          "base_uri": "https://localhost:8080/",
          "height": 323
        },
        "outputId": "fdc2cbd7-ea1c-478b-ca89-73aabe955d0c"
      },
      "cell_type": "code",
      "source": [
        "train_stats"
      ],
      "execution_count": 48,
      "outputs": [
        {
          "output_type": "execute_result",
          "data": {
            "text/plain": [
              "{0.0: {'Age': (30.723118279569892, 11.502312105882046),\n",
              "  'BMI': (30.112634408602155, 7.624070022962753),\n",
              "  'BloodPressure': (67.71774193548387, 17.994860220305053),\n",
              "  'DiabetesPedigreeFunction': (0.43916397849462374, 0.29513819229879623),\n",
              "  'Glucose': (109.29569892473118, 25.99997268909407),\n",
              "  'Insulin': (66.75537634408602, 89.92315885976693),\n",
              "  'Outcome': (0.0, 0.0),\n",
              "  'Pregnancies': (3.2096774193548385, 2.9604969538441575),\n",
              "  'SkinThickness': (20.188172043010752, 14.95048683113169)},\n",
              " 1.0: {'Age': (37.11764705882353, 10.861686736937802),\n",
              "  'BMI': (35.29313725490195, 7.723762321230591),\n",
              "  'BloodPressure': (71.79411764705883, 20.42255019238477),\n",
              "  'DiabetesPedigreeFunction': (0.5711764705882357, 0.39422825804810024),\n",
              "  'Glucose': (142.05392156862746, 32.95618877592207),\n",
              "  'Insulin': (106.08823529411765, 135.0192544518468),\n",
              "  'Outcome': (1.0, 0.0),\n",
              "  'Pregnancies': (4.892156862745098, 3.5314403841910655),\n",
              "  'SkinThickness': (23.848039215686274, 17.775320414575344)}}"
            ]
          },
          "metadata": {
            "tags": []
          },
          "execution_count": 48
        }
      ]
    },
    {
      "metadata": {
        "id": "nVf1vaMxhcOp",
        "colab_type": "code",
        "colab": {
          "base_uri": "https://localhost:8080/",
          "height": 34
        },
        "outputId": "8b8a8ac4-0c40-4561-a540-5cd8df62f8ee"
      },
      "cell_type": "code",
      "source": [
        "#Get the accuracy of our model with the test dataset\n",
        "get_accuracy(test_df, test_df_preds, train_stats)"
      ],
      "execution_count": 49,
      "outputs": [
        {
          "output_type": "execute_result",
          "data": {
            "text/plain": [
              "73.82198952879581"
            ]
          },
          "metadata": {
            "tags": []
          },
          "execution_count": 49
        }
      ]
    },
    {
      "metadata": {
        "id": "ks_k63rdhcJN",
        "colab_type": "code",
        "colab": {}
      },
      "cell_type": "code",
      "source": [
        ""
      ],
      "execution_count": 0,
      "outputs": []
    },
    {
      "metadata": {
        "id": "mlauPnkoik3T",
        "colab_type": "text"
      },
      "cell_type": "markdown",
      "source": [
        "Now that we have the validation accuracy of a \"naive\" Naive Bayes classifier, we should compare it with the Gaussian Naive Bayes that sklearn provides to get an idea of the accuracy of the naive basic implementation."
      ]
    },
    {
      "metadata": {
        "id": "0A2gje8pbuha",
        "colab_type": "code",
        "colab": {}
      },
      "cell_type": "code",
      "source": [
        "from sklearn.naive_bayes import GaussianNB"
      ],
      "execution_count": 0,
      "outputs": []
    },
    {
      "metadata": {
        "id": "1gYJNu0Nbuer",
        "colab_type": "code",
        "colab": {}
      },
      "cell_type": "code",
      "source": [
        "y_train = train_df['Outcome'].get_values()\n",
        "X_train = train_df.drop(columns='Outcome')\n",
        "\n",
        "X_test = test_df\n",
        "y_test = test_df_preds"
      ],
      "execution_count": 0,
      "outputs": []
    },
    {
      "metadata": {
        "id": "VsoUrLlMbuZT",
        "colab_type": "code",
        "colab": {
          "base_uri": "https://localhost:8080/",
          "height": 34
        },
        "outputId": "1869604d-f031-47b4-f424-fd3696a1ede7"
      },
      "cell_type": "code",
      "source": [
        "gclf = GaussianNB()\n",
        "gclf.fit(X_train, y_train)"
      ],
      "execution_count": 51,
      "outputs": [
        {
          "output_type": "execute_result",
          "data": {
            "text/plain": [
              "GaussianNB(priors=None, var_smoothing=1e-09)"
            ]
          },
          "metadata": {
            "tags": []
          },
          "execution_count": 51
        }
      ]
    },
    {
      "metadata": {
        "id": "yX43fmKGegVL",
        "colab_type": "code",
        "colab": {
          "base_uri": "https://localhost:8080/",
          "height": 68
        },
        "outputId": "df9bb8f4-9a3d-44ab-83a7-0c703570940d"
      },
      "cell_type": "code",
      "source": [
        "X_train.columns"
      ],
      "execution_count": 52,
      "outputs": [
        {
          "output_type": "execute_result",
          "data": {
            "text/plain": [
              "Index(['Pregnancies', 'Glucose', 'BloodPressure', 'SkinThickness', 'Insulin',\n",
              "       'BMI', 'DiabetesPedigreeFunction', 'Age'],\n",
              "      dtype='object')"
            ]
          },
          "metadata": {
            "tags": []
          },
          "execution_count": 52
        }
      ]
    },
    {
      "metadata": {
        "id": "notgFPR-buWi",
        "colab_type": "code",
        "colab": {
          "base_uri": "https://localhost:8080/",
          "height": 170
        },
        "outputId": "88f52cd2-b84b-4952-95c3-894e5fbf06d5"
      },
      "cell_type": "code",
      "source": [
        "gclf.predict(X_test)"
      ],
      "execution_count": 53,
      "outputs": [
        {
          "output_type": "execute_result",
          "data": {
            "text/plain": [
              "array([1, 0, 0, 1, 0, 0, 0, 0, 0, 0, 0, 0, 0, 1, 0, 1, 0, 1, 1, 1, 0, 0,\n",
              "       0, 0, 0, 1, 0, 0, 0, 0, 0, 1, 0, 0, 1, 0, 0, 1, 1, 0, 0, 0, 1, 1,\n",
              "       1, 1, 0, 0, 0, 0, 0, 1, 1, 0, 0, 0, 0, 0, 0, 0, 1, 1, 0, 0, 0, 0,\n",
              "       0, 0, 1, 1, 1, 0, 0, 0, 1, 0, 1, 0, 0, 0, 1, 0, 0, 0, 1, 0, 1, 0,\n",
              "       1, 0, 1, 0, 0, 1, 0, 0, 0, 0, 1, 1, 0, 0, 0, 0, 0, 0, 0, 1, 0, 1,\n",
              "       1, 1, 0, 0, 0, 0, 0, 0, 1, 0, 1, 1, 0, 0, 0, 1, 1, 0, 0, 0, 1, 0,\n",
              "       0, 0, 0, 0, 1, 0, 0, 1, 0, 0, 0, 0, 1, 0, 1, 0, 0, 0, 0, 0, 0, 1,\n",
              "       0, 0, 0, 0, 1, 0, 0, 0, 1, 1, 0, 0, 0, 0, 0, 0, 0, 0, 0, 0, 0, 0,\n",
              "       0, 1, 0, 0, 0, 0, 1, 1, 0, 0, 0, 0, 0, 0, 0])"
            ]
          },
          "metadata": {
            "tags": []
          },
          "execution_count": 53
        }
      ]
    },
    {
      "metadata": {
        "id": "Ck-BX4YabuUD",
        "colab_type": "code",
        "colab": {
          "base_uri": "https://localhost:8080/",
          "height": 34
        },
        "outputId": "40fd969d-1b52-4e8c-ef0f-eb7dcc3721d1"
      },
      "cell_type": "code",
      "source": [
        "gclf.score(X_test, y_test)"
      ],
      "execution_count": 54,
      "outputs": [
        {
          "output_type": "execute_result",
          "data": {
            "text/plain": [
              "0.7329842931937173"
            ]
          },
          "metadata": {
            "tags": []
          },
          "execution_count": 54
        }
      ]
    },
    {
      "metadata": {
        "id": "tXdX3R_5ePWE",
        "colab_type": "code",
        "colab": {}
      },
      "cell_type": "code",
      "source": [
        ""
      ],
      "execution_count": 0,
      "outputs": []
    }
  ]
}